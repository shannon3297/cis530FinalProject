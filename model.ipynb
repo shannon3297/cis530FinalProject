{
 "metadata": {
  "language_info": {
   "codemirror_mode": {
    "name": "ipython",
    "version": 3
   },
   "file_extension": ".py",
   "mimetype": "text/x-python",
   "name": "python",
   "nbconvert_exporter": "python",
   "pygments_lexer": "ipython3",
   "version": "3.8.5"
  },
  "orig_nbformat": 2,
  "kernelspec": {
   "name": "python385jvsc74a57bd0db7d3e87e6340b482333b66fc9e1422c5abdf2e2aa02949130528e569bdc2c91",
   "display_name": "Python 3.8.5 64-bit ('prop-env': conda)"
  },
  "metadata": {
   "interpreter": {
    "hash": "db7d3e87e6340b482333b66fc9e1422c5abdf2e2aa02949130528e569bdc2c91"
   }
  }
 },
 "nbformat": 4,
 "nbformat_minor": 2,
 "cells": [
  {
   "cell_type": "code",
   "execution_count": 15,
   "metadata": {},
   "outputs": [],
   "source": [
    "# Import statements \n",
    "from sklearn.linear_model import LogisticRegression\n",
    "import pandas as pd\n",
    "from textblob import TextBlob"
   ]
  },
  {
   "cell_type": "code",
   "execution_count": 16,
   "metadata": {},
   "outputs": [
    {
     "output_type": "stream",
     "name": "stderr",
     "text": [
      "/opt/anaconda3/envs/prop-env/lib/python3.8/site-packages/IPython/core/interactiveshell.py:3165: DtypeWarning: Columns (3,4,5) have mixed types.Specify dtype option on import or set low_memory=False.\n  has_raised = await self.run_ast_nodes(code_ast.body, cell_name,\n"
     ]
    }
   ],
   "source": [
    "# Load data\n",
    "train_feats = pd.read_csv('cleaned_feats/train_cleaned_features.csv')\n",
    "dev_feats = pd.read_csv('cleaned_feats/dev_cleaned_features.csv')\n",
    "test_feats = pd.read_csv('cleaned_feats/test_cleaned_features.csv')"
   ]
  },
  {
   "cell_type": "code",
   "execution_count": 26,
   "metadata": {},
   "outputs": [
    {
     "output_type": "execute_result",
     "data": {
      "text/plain": [
       "                                                text place user_location  \\\n",
       "0  Pretty much any corona virus germ that wants t...   NaN     PG County   \n",
       "\n",
       "  followers_count retweet_count favorite_count hashtags weekday month   day  \\\n",
       "0             478             0             10      NaN     Thu   Mar  19.0   \n",
       "\n",
       "       time    year sentiment  \n",
       "0  19:52:15  2020.0  positive  "
      ],
      "text/html": "<div>\n<style scoped>\n    .dataframe tbody tr th:only-of-type {\n        vertical-align: middle;\n    }\n\n    .dataframe tbody tr th {\n        vertical-align: top;\n    }\n\n    .dataframe thead th {\n        text-align: right;\n    }\n</style>\n<table border=\"1\" class=\"dataframe\">\n  <thead>\n    <tr style=\"text-align: right;\">\n      <th></th>\n      <th>text</th>\n      <th>place</th>\n      <th>user_location</th>\n      <th>followers_count</th>\n      <th>retweet_count</th>\n      <th>favorite_count</th>\n      <th>hashtags</th>\n      <th>weekday</th>\n      <th>month</th>\n      <th>day</th>\n      <th>time</th>\n      <th>year</th>\n      <th>sentiment</th>\n    </tr>\n  </thead>\n  <tbody>\n    <tr>\n      <th>0</th>\n      <td>Pretty much any corona virus germ that wants t...</td>\n      <td>NaN</td>\n      <td>PG County</td>\n      <td>478</td>\n      <td>0</td>\n      <td>10</td>\n      <td>NaN</td>\n      <td>Thu</td>\n      <td>Mar</td>\n      <td>19.0</td>\n      <td>19:52:15</td>\n      <td>2020.0</td>\n      <td>positive</td>\n    </tr>\n  </tbody>\n</table>\n</div>"
     },
     "metadata": {},
     "execution_count": 26
    }
   ],
   "source": [
    "# View the dataframes\n",
    "train_feats.head(1)"
   ]
  },
  {
   "cell_type": "code",
   "execution_count": null,
   "metadata": {},
   "outputs": [],
   "source": [
    "# Feature manipulation to make them ready for the model\n",
    "# Change sentiment labels to numbers!\n",
    "sentiment_map = {\"positive\": 1, \"neutral\": 0, \"negative\": -1}\n",
    "\n",
    "train_feats['sentiment'] = train_feats['sentiment'].apply(lambda x: sentiment_map[x])"
   ]
  },
  {
   "cell_type": "code",
   "execution_count": 25,
   "metadata": {},
   "outputs": [
    {
     "output_type": "stream",
     "name": "stdout",
     "text": [
      "@Jeff_Reinebold No corona out there, that’s for sure. Enjoy\n[('@', 'NNS'), ('Jeff_Reinebold', 'NNP'), ('No', 'NNP'), ('corona', 'NN'), ('out', 'IN'), ('there', 'RB'), ('that', 'IN'), ('’', 'NNP'), ('s', 'NN'), ('for', 'IN'), ('sure', 'JJ'), ('Enjoy', 'NN')]\n['jeff_reinebold', '’ s', 'enjoy']\n0.5\n0.4\n"
     ]
    }
   ],
   "source": [
    "print(test_feats.head(1)['text'][0])\n",
    "blob = TextBlob(test_feats.head(1)['text'][0])\n",
    "print(blob.tags)           # [('The', 'DT'), ('titular', 'JJ'),\n",
    "                    #  ('threat', 'NN'), ('of', 'IN'), ...]\n",
    "\n",
    "print(blob.noun_phrases)   # WordList(['titular threat', 'blob',\n",
    "                    #            'ultimate movie monster',\n",
    "                    #            'amoeba-like mass', ...])\n",
    "\n",
    "for sentence in blob.sentences:\n",
    "    print(sentence.sentiment.polarity)"
   ]
  },
  {
   "cell_type": "code",
   "execution_count": 12,
   "metadata": {},
   "outputs": [],
   "source": [
    "# Instantiate model - Multinomial logistic regression\n",
    "model = LogisticRegression(multi_class='multinomial', solver='lbfgs')"
   ]
  },
  {
   "cell_type": "code",
   "execution_count": null,
   "metadata": {},
   "outputs": [],
   "source": []
  }
 ]
}