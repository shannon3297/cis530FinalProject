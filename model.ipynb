{
 "metadata": {
  "language_info": {
   "codemirror_mode": {
    "name": "ipython",
    "version": 3
   },
   "file_extension": ".py",
   "mimetype": "text/x-python",
   "name": "python",
   "nbconvert_exporter": "python",
   "pygments_lexer": "ipython3",
   "version": "3.8.5"
  },
  "orig_nbformat": 2,
  "kernelspec": {
   "name": "python385jvsc74a57bd0db7d3e87e6340b482333b66fc9e1422c5abdf2e2aa02949130528e569bdc2c91",
   "display_name": "Python 3.8.5 64-bit ('prop-env': conda)"
  },
  "metadata": {
   "interpreter": {
    "hash": "db7d3e87e6340b482333b66fc9e1422c5abdf2e2aa02949130528e569bdc2c91"
   }
  }
 },
 "nbformat": 4,
 "nbformat_minor": 2,
 "cells": [
  {
   "cell_type": "code",
   "execution_count": 4,
   "metadata": {},
   "outputs": [],
   "source": [
    "# Import statements \n",
    "from sklearn.linear_model import LogisticRegression\n",
    "import pandas as pd"
   ]
  },
  {
   "cell_type": "code",
   "execution_count": 6,
   "metadata": {},
   "outputs": [
    {
     "output_type": "stream",
     "name": "stderr",
     "text": [
      "/opt/anaconda3/envs/prop-env/lib/python3.8/site-packages/IPython/core/interactiveshell.py:3165: DtypeWarning: Columns (3,4,5) have mixed types.Specify dtype option on import or set low_memory=False.\n  has_raised = await self.run_ast_nodes(code_ast.body, cell_name,\n"
     ]
    }
   ],
   "source": [
    "# Load data\n",
    "train_feats = pd.read_csv('cleaned_feats/train_cleaned_features.csv')\n",
    "dev_feats = pd.read_csv('cleaned_feats/dev_cleaned_features.csv')\n",
    "test_feats = pd.read_csv('cleaned_feats/test_cleaned_features.csv')"
   ]
  },
  {
   "cell_type": "code",
   "execution_count": 11,
   "metadata": {},
   "outputs": [
    {
     "output_type": "execute_result",
     "data": {
      "text/plain": [
       "                                                text          place  \\\n",
       "0  @Jeff_Reinebold No corona out there, that’s fo...            NaN   \n",
       "1  RT @EagleEye____: While I commend @NigeriaGov ...            NaN   \n",
       "2  RT @ioproducer: There was a nasty flu that wen...            NaN   \n",
       "3  RT @inMBwetrust: #AmericanVirus is purposely b...            NaN   \n",
       "4  RT @chomahardi: Here is my brand new Youtube c...            NaN   \n",
       "5  RT @Taiwo00000: After you survive Ebola and u ...            NaN   \n",
       "6  RT @BoycottUtah: Early in 2017 I tweeted that ...            NaN   \n",
       "7  RT @ArielDumas: Wow what a racist douchebag ht...            NaN   \n",
       "8  What a terrible person. Not that that is news....  United States   \n",
       "9  RT @jabinbotsford: Close up of President @real...            NaN   \n",
       "\n",
       "       user_location followers_count retweet_count favorite_count  \\\n",
       "0                NaN             117             0              0   \n",
       "1                NaN            1472             3              0   \n",
       "2        Rhyl, Wales              26         46036              0   \n",
       "3          Miami, FL            5859             1              0   \n",
       "4            Nowhere             220             9              0   \n",
       "5                NaN             146             4              0   \n",
       "6                NaN            4604           116              0   \n",
       "7                NaN             133           227              0   \n",
       "8  Mission Viejo, CA              78             0              0   \n",
       "9                NaN             379         30487              0   \n",
       "\n",
       "                                          hashtags weekday month   day  \\\n",
       "0                                              NaN     Thu   Mar  19.0   \n",
       "1                                              NaN     Thu   Mar  19.0   \n",
       "2                                              NaN     Thu   Mar  19.0   \n",
       "3   {'text': 'AmericanVirus', 'indices': [17, 31]}     Thu   Mar  19.0   \n",
       "4                                              NaN     Thu   Mar  19.0   \n",
       "5  {'text': 'COVID19NIGERIA', 'indices': [76, 91]}     Thu   Mar  19.0   \n",
       "6                                              NaN     Thu   Mar  19.0   \n",
       "7                                              NaN     Thu   Mar  19.0   \n",
       "8                                              NaN     Thu   Mar  19.0   \n",
       "9                                              NaN     Thu   Mar  19.0   \n",
       "\n",
       "       time    year sentiment  \n",
       "0  20:47:59  2020.0  positive  \n",
       "1  20:47:59  2020.0  negative  \n",
       "2  20:47:59  2020.0  negative  \n",
       "3  20:47:59  2020.0   neutral  \n",
       "4  20:47:59  2020.0  positive  \n",
       "5  20:47:59  2020.0   neutral  \n",
       "6  20:47:59  2020.0  positive  \n",
       "7  20:47:59  2020.0  positive  \n",
       "8  20:47:59  2020.0  negative  \n",
       "9  20:47:59  2020.0   neutral  "
      ],
      "text/html": "<div>\n<style scoped>\n    .dataframe tbody tr th:only-of-type {\n        vertical-align: middle;\n    }\n\n    .dataframe tbody tr th {\n        vertical-align: top;\n    }\n\n    .dataframe thead th {\n        text-align: right;\n    }\n</style>\n<table border=\"1\" class=\"dataframe\">\n  <thead>\n    <tr style=\"text-align: right;\">\n      <th></th>\n      <th>text</th>\n      <th>place</th>\n      <th>user_location</th>\n      <th>followers_count</th>\n      <th>retweet_count</th>\n      <th>favorite_count</th>\n      <th>hashtags</th>\n      <th>weekday</th>\n      <th>month</th>\n      <th>day</th>\n      <th>time</th>\n      <th>year</th>\n      <th>sentiment</th>\n    </tr>\n  </thead>\n  <tbody>\n    <tr>\n      <th>0</th>\n      <td>@Jeff_Reinebold No corona out there, that’s fo...</td>\n      <td>NaN</td>\n      <td>NaN</td>\n      <td>117</td>\n      <td>0</td>\n      <td>0</td>\n      <td>NaN</td>\n      <td>Thu</td>\n      <td>Mar</td>\n      <td>19.0</td>\n      <td>20:47:59</td>\n      <td>2020.0</td>\n      <td>positive</td>\n    </tr>\n    <tr>\n      <th>1</th>\n      <td>RT @EagleEye____: While I commend @NigeriaGov ...</td>\n      <td>NaN</td>\n      <td>NaN</td>\n      <td>1472</td>\n      <td>3</td>\n      <td>0</td>\n      <td>NaN</td>\n      <td>Thu</td>\n      <td>Mar</td>\n      <td>19.0</td>\n      <td>20:47:59</td>\n      <td>2020.0</td>\n      <td>negative</td>\n    </tr>\n    <tr>\n      <th>2</th>\n      <td>RT @ioproducer: There was a nasty flu that wen...</td>\n      <td>NaN</td>\n      <td>Rhyl, Wales</td>\n      <td>26</td>\n      <td>46036</td>\n      <td>0</td>\n      <td>NaN</td>\n      <td>Thu</td>\n      <td>Mar</td>\n      <td>19.0</td>\n      <td>20:47:59</td>\n      <td>2020.0</td>\n      <td>negative</td>\n    </tr>\n    <tr>\n      <th>3</th>\n      <td>RT @inMBwetrust: #AmericanVirus is purposely b...</td>\n      <td>NaN</td>\n      <td>Miami, FL</td>\n      <td>5859</td>\n      <td>1</td>\n      <td>0</td>\n      <td>{'text': 'AmericanVirus', 'indices': [17, 31]}</td>\n      <td>Thu</td>\n      <td>Mar</td>\n      <td>19.0</td>\n      <td>20:47:59</td>\n      <td>2020.0</td>\n      <td>neutral</td>\n    </tr>\n    <tr>\n      <th>4</th>\n      <td>RT @chomahardi: Here is my brand new Youtube c...</td>\n      <td>NaN</td>\n      <td>Nowhere</td>\n      <td>220</td>\n      <td>9</td>\n      <td>0</td>\n      <td>NaN</td>\n      <td>Thu</td>\n      <td>Mar</td>\n      <td>19.0</td>\n      <td>20:47:59</td>\n      <td>2020.0</td>\n      <td>positive</td>\n    </tr>\n    <tr>\n      <th>5</th>\n      <td>RT @Taiwo00000: After you survive Ebola and u ...</td>\n      <td>NaN</td>\n      <td>NaN</td>\n      <td>146</td>\n      <td>4</td>\n      <td>0</td>\n      <td>{'text': 'COVID19NIGERIA', 'indices': [76, 91]}</td>\n      <td>Thu</td>\n      <td>Mar</td>\n      <td>19.0</td>\n      <td>20:47:59</td>\n      <td>2020.0</td>\n      <td>neutral</td>\n    </tr>\n    <tr>\n      <th>6</th>\n      <td>RT @BoycottUtah: Early in 2017 I tweeted that ...</td>\n      <td>NaN</td>\n      <td>NaN</td>\n      <td>4604</td>\n      <td>116</td>\n      <td>0</td>\n      <td>NaN</td>\n      <td>Thu</td>\n      <td>Mar</td>\n      <td>19.0</td>\n      <td>20:47:59</td>\n      <td>2020.0</td>\n      <td>positive</td>\n    </tr>\n    <tr>\n      <th>7</th>\n      <td>RT @ArielDumas: Wow what a racist douchebag ht...</td>\n      <td>NaN</td>\n      <td>NaN</td>\n      <td>133</td>\n      <td>227</td>\n      <td>0</td>\n      <td>NaN</td>\n      <td>Thu</td>\n      <td>Mar</td>\n      <td>19.0</td>\n      <td>20:47:59</td>\n      <td>2020.0</td>\n      <td>positive</td>\n    </tr>\n    <tr>\n      <th>8</th>\n      <td>What a terrible person. Not that that is news....</td>\n      <td>United States</td>\n      <td>Mission Viejo, CA</td>\n      <td>78</td>\n      <td>0</td>\n      <td>0</td>\n      <td>NaN</td>\n      <td>Thu</td>\n      <td>Mar</td>\n      <td>19.0</td>\n      <td>20:47:59</td>\n      <td>2020.0</td>\n      <td>negative</td>\n    </tr>\n    <tr>\n      <th>9</th>\n      <td>RT @jabinbotsford: Close up of President @real...</td>\n      <td>NaN</td>\n      <td>NaN</td>\n      <td>379</td>\n      <td>30487</td>\n      <td>0</td>\n      <td>NaN</td>\n      <td>Thu</td>\n      <td>Mar</td>\n      <td>19.0</td>\n      <td>20:47:59</td>\n      <td>2020.0</td>\n      <td>neutral</td>\n    </tr>\n  </tbody>\n</table>\n</div>"
     },
     "metadata": {},
     "execution_count": 11
    }
   ],
   "source": [
    "# View the dataframes\n",
    "test_feats.head(10)"
   ]
  },
  {
   "cell_type": "code",
   "execution_count": null,
   "metadata": {},
   "outputs": [],
   "source": [
    "# Feature manipulation to make them ready for the model"
   ]
  },
  {
   "cell_type": "code",
   "execution_count": 12,
   "metadata": {},
   "outputs": [],
   "source": [
    "# Instantiate model - Multinomial logistic regression\n",
    "model = LogisticRegression(multi_class='multinomial', solver='lbfgs')"
   ]
  },
  {
   "cell_type": "code",
   "execution_count": null,
   "metadata": {},
   "outputs": [],
   "source": []
  }
 ]
}