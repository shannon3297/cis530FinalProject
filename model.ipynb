{
 "metadata": {
  "language_info": {
   "codemirror_mode": {
    "name": "ipython",
    "version": 3
   },
   "file_extension": ".py",
   "mimetype": "text/x-python",
   "name": "python",
   "nbconvert_exporter": "python",
   "pygments_lexer": "ipython3",
   "version": "3.8.5"
  },
  "orig_nbformat": 2,
  "kernelspec": {
   "name": "python385jvsc74a57bd0db7d3e87e6340b482333b66fc9e1422c5abdf2e2aa02949130528e569bdc2c91",
   "display_name": "Python 3.8.5 64-bit ('prop-env': conda)"
  },
  "metadata": {
   "interpreter": {
    "hash": "db7d3e87e6340b482333b66fc9e1422c5abdf2e2aa02949130528e569bdc2c91"
   }
  }
 },
 "nbformat": 4,
 "nbformat_minor": 2,
 "cells": [
  {
   "cell_type": "code",
   "execution_count": 84,
   "metadata": {},
   "outputs": [],
   "source": [
    "# Import statements \n",
    "from sklearn.linear_model import LogisticRegression\n",
    "import pandas as pd\n",
    "from textblob import TextBlob\n",
    "import string\n",
    "import datetime"
   ]
  },
  {
   "cell_type": "code",
   "execution_count": 107,
   "metadata": {},
   "outputs": [
    {
     "output_type": "stream",
     "name": "stderr",
     "text": [
      "/opt/anaconda3/envs/prop-env/lib/python3.8/site-packages/IPython/core/interactiveshell.py:3165: DtypeWarning: Columns (3,4,5) have mixed types.Specify dtype option on import or set low_memory=False.\n  has_raised = await self.run_ast_nodes(code_ast.body, cell_name,\n"
     ]
    }
   ],
   "source": [
    "# Load data\n",
    "train_feats = pd.read_csv('cleaned_feats/train_cleaned_features.csv', delimiter=',', encoding=\"utf-8\")\n",
    "dev_feats = pd.read_csv('cleaned_feats/dev_cleaned_features.csv', delimiter=',', encoding=\"utf-8\")\n",
    "test_feats = pd.read_csv('cleaned_feats/test_cleaned_features.csv', delimiter=',', encoding=\"utf-8\")\n",
    "\n",
    "# Clear whitespace\n",
    "train_feats.columns = train_feats.columns.str.strip()"
   ]
  },
  {
   "cell_type": "code",
   "execution_count": 102,
   "metadata": {},
   "outputs": [
    {
     "output_type": "stream",
     "name": "stdout",
     "text": [
      "Old length:  3515562\n",
      "New length:  3515538\n"
     ]
    }
   ],
   "source": [
    "# Dropping stuff!\n",
    "\n",
    "# Drop all rows where time is NA?\n",
    "print(\"Old length: \", len(train_feats))\n",
    "train_feats = train_feats[train_feats['time'].notna()]\n",
    "print(\"New length: \", len(train_feats))\n",
    "\n",
    "# Just drop hashtags for now, too difficult for M3 to deal with\n",
    "train_feats = train_feats.drop(['hashtags'], axis=1)"
   ]
  },
  {
   "cell_type": "code",
   "execution_count": 108,
   "metadata": {},
   "outputs": [
    {
     "output_type": "execute_result",
     "data": {
      "text/plain": [
       "                                                text place  \\\n",
       "0  Pretty much any corona virus germ that wants t...   NaN   \n",
       "1     RT @RealSaavedra: Good.\\n\\nIt came from China.   NaN   \n",
       "2        RT @nicolebyer: Everyone in this looks sick   NaN   \n",
       "3  RT @jabinbotsford: Close up of President @real...   NaN   \n",
       "4  RT @Biancaixvi: Corona day 3: it just feels li...   NaN   \n",
       "\n",
       "             user_location followers_count retweet_count favorite_count  \\\n",
       "0                PG County             478             0             10   \n",
       "1  Sydney, New South Wales             394           102              0   \n",
       "2                  ferrets             695         48499              0   \n",
       "3                      NaN              19         30492              0   \n",
       "4              Huntley, IL             392         85302              0   \n",
       "\n",
       "  hashtags weekday month   day      time    year sentiment  \n",
       "0      NaN     Thu   Mar  19.0  19:52:15  2020.0  positive  \n",
       "1      NaN     Thu   Mar  19.0  19:52:15  2020.0  positive  \n",
       "2      NaN     Thu   Mar  19.0  19:52:15  2020.0  negative  \n",
       "3      NaN     Thu   Mar  19.0  19:52:15  2020.0   neutral  \n",
       "4      NaN     Thu   Mar  19.0  19:52:15  2020.0   neutral  "
      ],
      "text/html": "<div>\n<style scoped>\n    .dataframe tbody tr th:only-of-type {\n        vertical-align: middle;\n    }\n\n    .dataframe tbody tr th {\n        vertical-align: top;\n    }\n\n    .dataframe thead th {\n        text-align: right;\n    }\n</style>\n<table border=\"1\" class=\"dataframe\">\n  <thead>\n    <tr style=\"text-align: right;\">\n      <th></th>\n      <th>text</th>\n      <th>place</th>\n      <th>user_location</th>\n      <th>followers_count</th>\n      <th>retweet_count</th>\n      <th>favorite_count</th>\n      <th>hashtags</th>\n      <th>weekday</th>\n      <th>month</th>\n      <th>day</th>\n      <th>time</th>\n      <th>year</th>\n      <th>sentiment</th>\n    </tr>\n  </thead>\n  <tbody>\n    <tr>\n      <th>0</th>\n      <td>Pretty much any corona virus germ that wants t...</td>\n      <td>NaN</td>\n      <td>PG County</td>\n      <td>478</td>\n      <td>0</td>\n      <td>10</td>\n      <td>NaN</td>\n      <td>Thu</td>\n      <td>Mar</td>\n      <td>19.0</td>\n      <td>19:52:15</td>\n      <td>2020.0</td>\n      <td>positive</td>\n    </tr>\n    <tr>\n      <th>1</th>\n      <td>RT @RealSaavedra: Good.\\n\\nIt came from China.</td>\n      <td>NaN</td>\n      <td>Sydney, New South Wales</td>\n      <td>394</td>\n      <td>102</td>\n      <td>0</td>\n      <td>NaN</td>\n      <td>Thu</td>\n      <td>Mar</td>\n      <td>19.0</td>\n      <td>19:52:15</td>\n      <td>2020.0</td>\n      <td>positive</td>\n    </tr>\n    <tr>\n      <th>2</th>\n      <td>RT @nicolebyer: Everyone in this looks sick</td>\n      <td>NaN</td>\n      <td>ferrets</td>\n      <td>695</td>\n      <td>48499</td>\n      <td>0</td>\n      <td>NaN</td>\n      <td>Thu</td>\n      <td>Mar</td>\n      <td>19.0</td>\n      <td>19:52:15</td>\n      <td>2020.0</td>\n      <td>negative</td>\n    </tr>\n    <tr>\n      <th>3</th>\n      <td>RT @jabinbotsford: Close up of President @real...</td>\n      <td>NaN</td>\n      <td>NaN</td>\n      <td>19</td>\n      <td>30492</td>\n      <td>0</td>\n      <td>NaN</td>\n      <td>Thu</td>\n      <td>Mar</td>\n      <td>19.0</td>\n      <td>19:52:15</td>\n      <td>2020.0</td>\n      <td>neutral</td>\n    </tr>\n    <tr>\n      <th>4</th>\n      <td>RT @Biancaixvi: Corona day 3: it just feels li...</td>\n      <td>NaN</td>\n      <td>Huntley, IL</td>\n      <td>392</td>\n      <td>85302</td>\n      <td>0</td>\n      <td>NaN</td>\n      <td>Thu</td>\n      <td>Mar</td>\n      <td>19.0</td>\n      <td>19:52:15</td>\n      <td>2020.0</td>\n      <td>neutral</td>\n    </tr>\n  </tbody>\n</table>\n</div>"
     },
     "metadata": {},
     "execution_count": 108
    }
   ],
   "source": [
    "# View the dataframes\n",
    "train_feats.head(5)\n",
    "#train_feats.columns                                        "
   ]
  },
  {
   "cell_type": "code",
   "execution_count": 106,
   "metadata": {},
   "outputs": [
    {
     "output_type": "execute_result",
     "data": {
      "text/plain": [
       "text                object\n",
       "place                 int8\n",
       "user_location        int32\n",
       "followers_count     object\n",
       "retweet_count       object\n",
       "favorite_count      object\n",
       "weekday               int8\n",
       "month                 int8\n",
       "day                float64\n",
       "year               float64\n",
       "sentiment             int8\n",
       "hour                 int64\n",
       "minute               int64\n",
       "dtype: object"
      ]
     },
     "metadata": {},
     "execution_count": 106
    }
   ],
   "source": [
    "train_feats.dtypes"
   ]
  },
  {
   "cell_type": "code",
   "execution_count": 104,
   "metadata": {},
   "outputs": [],
   "source": [
    "# Feature manipulation to make them ready for the model\n",
    "# Change sentiment labels to numbers!\n",
    "train_feats['sentiment'] = train_feats['sentiment'].astype('category')\n",
    "train_feats[\"sentiment\"] = train_feats[\"sentiment\"].cat.codes\n",
    "\n",
    "# Change location\n",
    "train_feats[\"user_location\"] = train_feats[\"user_location\"].astype('category')\n",
    "train_feats[\"user_location\"] = train_feats[\"user_location\"].cat.codes\n",
    "\n",
    "# Change place\n",
    "train_feats[\"place\"] = train_feats[\"place\"].astype('category')\n",
    "train_feats[\"place\"] = train_feats[\"place\"].cat.codes\n",
    "\n",
    "# Change weekday\n",
    "train_feats[\"weekday\"] = train_feats[\"weekday\"].astype('category')\n",
    "train_feats[\"weekday\"] = train_feats[\"weekday\"].cat.codes\n",
    "\n",
    "# Change month\n",
    "train_feats[\"month\"] = train_feats[\"month\"].astype('category')\n",
    "train_feats[\"month\"] = train_feats[\"month\"].cat.codes\n",
    "\n",
    "# Change time to datetime object\n",
    "train_feats['time'] = train_feats['time'].apply(lambda x: datetime.datetime.strptime(str(x), '%H:%M:%S'))\n",
    "\n",
    "# Add hour and minute columns\n",
    "train_feats['hour'] = train_feats['time'].apply(lambda x: x.hour)\n",
    "train_feats['minute'] = train_feats['time'].apply(lambda x: x.minute)\n",
    "\n",
    "# Drop time\n",
    "train_feats = train_feats.drop(['time'], axis=1)\n",
    "\n",
    "# Split"
   ]
  },
  {
   "cell_type": "code",
   "execution_count": 25,
   "metadata": {},
   "outputs": [
    {
     "output_type": "stream",
     "name": "stdout",
     "text": [
      "@Jeff_Reinebold No corona out there, that’s for sure. Enjoy\n[('@', 'NNS'), ('Jeff_Reinebold', 'NNP'), ('No', 'NNP'), ('corona', 'NN'), ('out', 'IN'), ('there', 'RB'), ('that', 'IN'), ('’', 'NNP'), ('s', 'NN'), ('for', 'IN'), ('sure', 'JJ'), ('Enjoy', 'NN')]\n['jeff_reinebold', '’ s', 'enjoy']\n0.5\n0.4\n"
     ]
    }
   ],
   "source": [
    "# Haven't done text stuff yet!\n",
    "\n",
    "print(test_feats.head(1)['text'][0])\n",
    "blob = TextBlob(test_feats.head(1)['text'][0])\n",
    "print(blob.tags)           # [('The', 'DT'), ('titular', 'JJ'),\n",
    "                    #  ('threat', 'NN'), ('of', 'IN'), ...]\n",
    "\n",
    "print(blob.noun_phrases)   # WordList(['titular threat', 'blob',\n",
    "                    #            'ultimate movie monster',\n",
    "                    #            'amoeba-like mass', ...])\n",
    "\n",
    "for sentence in blob.sentences:\n",
    "    print(sentence.sentiment.polarity)"
   ]
  },
  {
   "cell_type": "code",
   "execution_count": 12,
   "metadata": {},
   "outputs": [],
   "source": [
    "# Instantiate model - Multinomial logistic regression\n",
    "model = LogisticRegression(multi_class='multinomial', solver='lbfgs')"
   ]
  },
  {
   "cell_type": "code",
   "execution_count": null,
   "metadata": {},
   "outputs": [],
   "source": []
  }
 ]
}